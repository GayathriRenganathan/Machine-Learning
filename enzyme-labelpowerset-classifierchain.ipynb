{
 "cells": [
  {
   "cell_type": "code",
   "execution_count": 1,
   "id": "a4956ae5",
   "metadata": {
    "_cell_guid": "b1076dfc-b9ad-4769-8c92-a6c4dae69d19",
    "_uuid": "8f2839f25d086af736a60e9eeb907d3b93b6e0e5",
    "execution": {
     "iopub.execute_input": "2024-02-15T00:52:15.419529Z",
     "iopub.status.busy": "2024-02-15T00:52:15.419210Z",
     "iopub.status.idle": "2024-02-15T00:52:15.429731Z",
     "shell.execute_reply": "2024-02-15T00:52:15.428789Z"
    },
    "papermill": {
     "duration": 0.018558,
     "end_time": "2024-02-15T00:52:15.431823",
     "exception": false,
     "start_time": "2024-02-15T00:52:15.413265",
     "status": "completed"
    },
    "tags": []
   },
   "outputs": [
    {
     "name": "stdout",
     "output_type": "stream",
     "text": [
      "/kaggle/input/playground-series-s3e18/sample_submission.csv\n",
      "/kaggle/input/playground-series-s3e18/train.csv\n",
      "/kaggle/input/playground-series-s3e18/test.csv\n"
     ]
    }
   ],
   "source": [
    "# This Python 3 environment comes with many helpful analytics libraries installed\n",
    "# It is defined by the kaggle/python Docker image: https://github.com/kaggle/docker-python\n",
    "# For example, here's several helpful packages to load\n",
    "\n",
    "import numpy as np # linear algebra\n",
    "import pandas as pd # data processing, CSV file I/O (e.g. pd.read_csv)\n",
    "\n",
    "# Input data files are available in the read-only \"../input/\" directory\n",
    "# For example, running this (by clicking run or pressing Shift+Enter) will list all files under the input directory\n",
    "\n",
    "import os\n",
    "for dirname, _, filenames in os.walk('/kaggle/input'):\n",
    "    for filename in filenames:\n",
    "        print(os.path.join(dirname, filename))\n",
    "\n",
    "# You can write up to 20GB to the current directory (/kaggle/working/) that gets preserved as output when you create a version using \"Save & Run All\" \n",
    "# You can also write temporary files to /kaggle/temp/, but they won't be saved outside of the current session"
   ]
  },
  {
   "cell_type": "code",
   "execution_count": 2,
   "id": "1667557c",
   "metadata": {
    "execution": {
     "iopub.execute_input": "2024-02-15T00:52:15.441458Z",
     "iopub.status.busy": "2024-02-15T00:52:15.440930Z",
     "iopub.status.idle": "2024-02-15T00:52:15.691841Z",
     "shell.execute_reply": "2024-02-15T00:52:15.690604Z"
    },
    "papermill": {
     "duration": 0.258274,
     "end_time": "2024-02-15T00:52:15.694247",
     "exception": false,
     "start_time": "2024-02-15T00:52:15.435973",
     "status": "completed"
    },
    "tags": []
   },
   "outputs": [],
   "source": [
    "data_train = pd.read_csv('/kaggle/input/playground-series-s3e18/train.csv')\n",
    "data_test = pd.read_csv('/kaggle/input/playground-series-s3e18/test.csv')"
   ]
  },
  {
   "cell_type": "code",
   "execution_count": 3,
   "id": "18b7e0e6",
   "metadata": {
    "execution": {
     "iopub.execute_input": "2024-02-15T00:52:15.703537Z",
     "iopub.status.busy": "2024-02-15T00:52:15.703194Z",
     "iopub.status.idle": "2024-02-15T00:52:17.319130Z",
     "shell.execute_reply": "2024-02-15T00:52:17.318139Z"
    },
    "papermill": {
     "duration": 1.623252,
     "end_time": "2024-02-15T00:52:17.321477",
     "exception": false,
     "start_time": "2024-02-15T00:52:15.698225",
     "status": "completed"
    },
    "tags": []
   },
   "outputs": [],
   "source": [
    "import numpy as np\n",
    "import pandas as pd\n",
    "import seaborn as sns\n",
    "from matplotlib import pyplot as plt\n",
    "from sklearn import preprocessing\n",
    "from sklearn.model_selection import train_test_split\n",
    "from sklearn.preprocessing import LabelEncoder\n",
    "from sklearn.model_selection import RepeatedKFold\n",
    "from sklearn.metrics import accuracy_score,roc_curve , roc_auc_score,make_scorer\n",
    "from sklearn.model_selection import cross_val_score,cross_validate\n",
    "\n",
    "pd.set_option('display.max_columns', 100)\n",
    "pd.set_option('display.max_rows', 200)"
   ]
  },
  {
   "cell_type": "code",
   "execution_count": 4,
   "id": "a4a9c356",
   "metadata": {
    "execution": {
     "iopub.execute_input": "2024-02-15T00:52:17.330437Z",
     "iopub.status.busy": "2024-02-15T00:52:17.329843Z",
     "iopub.status.idle": "2024-02-15T00:52:17.335857Z",
     "shell.execute_reply": "2024-02-15T00:52:17.334969Z"
    },
    "papermill": {
     "duration": 0.012524,
     "end_time": "2024-02-15T00:52:17.337850",
     "exception": false,
     "start_time": "2024-02-15T00:52:17.325326",
     "status": "completed"
    },
    "tags": []
   },
   "outputs": [
    {
     "data": {
      "text/plain": [
       "(14838, 38)"
      ]
     },
     "execution_count": 4,
     "metadata": {},
     "output_type": "execute_result"
    }
   ],
   "source": [
    "data_train.shape"
   ]
  },
  {
   "cell_type": "code",
   "execution_count": 5,
   "id": "5bc55512",
   "metadata": {
    "execution": {
     "iopub.execute_input": "2024-02-15T00:52:17.347115Z",
     "iopub.status.busy": "2024-02-15T00:52:17.346740Z",
     "iopub.status.idle": "2024-02-15T00:52:17.482494Z",
     "shell.execute_reply": "2024-02-15T00:52:17.481513Z"
    },
    "papermill": {
     "duration": 0.142824,
     "end_time": "2024-02-15T00:52:17.484646",
     "exception": false,
     "start_time": "2024-02-15T00:52:17.341822",
     "status": "completed"
    },
    "tags": []
   },
   "outputs": [
    {
     "data": {
      "text/html": [
       "<div>\n",
       "<style scoped>\n",
       "    .dataframe tbody tr th:only-of-type {\n",
       "        vertical-align: middle;\n",
       "    }\n",
       "\n",
       "    .dataframe tbody tr th {\n",
       "        vertical-align: top;\n",
       "    }\n",
       "\n",
       "    .dataframe thead th {\n",
       "        text-align: right;\n",
       "    }\n",
       "</style>\n",
       "<table border=\"1\" class=\"dataframe\">\n",
       "  <thead>\n",
       "    <tr style=\"text-align: right;\">\n",
       "      <th></th>\n",
       "      <th>id</th>\n",
       "      <th>BertzCT</th>\n",
       "      <th>Chi1</th>\n",
       "      <th>Chi1n</th>\n",
       "      <th>Chi1v</th>\n",
       "      <th>Chi2n</th>\n",
       "      <th>Chi2v</th>\n",
       "      <th>Chi3v</th>\n",
       "      <th>Chi4n</th>\n",
       "      <th>EState_VSA1</th>\n",
       "      <th>EState_VSA2</th>\n",
       "      <th>ExactMolWt</th>\n",
       "      <th>FpDensityMorgan1</th>\n",
       "      <th>FpDensityMorgan2</th>\n",
       "      <th>FpDensityMorgan3</th>\n",
       "      <th>HallKierAlpha</th>\n",
       "      <th>HeavyAtomMolWt</th>\n",
       "      <th>Kappa3</th>\n",
       "      <th>MaxAbsEStateIndex</th>\n",
       "      <th>MinEStateIndex</th>\n",
       "      <th>NumHeteroatoms</th>\n",
       "      <th>PEOE_VSA10</th>\n",
       "      <th>PEOE_VSA14</th>\n",
       "      <th>PEOE_VSA6</th>\n",
       "      <th>PEOE_VSA7</th>\n",
       "      <th>PEOE_VSA8</th>\n",
       "      <th>SMR_VSA10</th>\n",
       "      <th>SMR_VSA5</th>\n",
       "      <th>SlogP_VSA3</th>\n",
       "      <th>VSA_EState9</th>\n",
       "      <th>fr_COO</th>\n",
       "      <th>fr_COO2</th>\n",
       "      <th>EC1</th>\n",
       "      <th>EC2</th>\n",
       "      <th>EC3</th>\n",
       "      <th>EC4</th>\n",
       "      <th>EC5</th>\n",
       "      <th>EC6</th>\n",
       "    </tr>\n",
       "  </thead>\n",
       "  <tbody>\n",
       "    <tr>\n",
       "      <th>count</th>\n",
       "      <td>14838.000000</td>\n",
       "      <td>14838.000000</td>\n",
       "      <td>14838.000000</td>\n",
       "      <td>14838.000000</td>\n",
       "      <td>14838.000000</td>\n",
       "      <td>14838.000000</td>\n",
       "      <td>14838.000000</td>\n",
       "      <td>14838.000000</td>\n",
       "      <td>14838.000000</td>\n",
       "      <td>14838.000000</td>\n",
       "      <td>14838.000000</td>\n",
       "      <td>14838.000000</td>\n",
       "      <td>14838.000000</td>\n",
       "      <td>14838.000000</td>\n",
       "      <td>14838.000000</td>\n",
       "      <td>14838.000000</td>\n",
       "      <td>14838.000000</td>\n",
       "      <td>14838.000000</td>\n",
       "      <td>14838.000000</td>\n",
       "      <td>14838.000000</td>\n",
       "      <td>14838.000000</td>\n",
       "      <td>14838.000000</td>\n",
       "      <td>14838.000000</td>\n",
       "      <td>14838.000000</td>\n",
       "      <td>14838.000000</td>\n",
       "      <td>14838.000000</td>\n",
       "      <td>14838.000000</td>\n",
       "      <td>14838.000000</td>\n",
       "      <td>14838.000000</td>\n",
       "      <td>14838.000000</td>\n",
       "      <td>14838.000000</td>\n",
       "      <td>14838.000000</td>\n",
       "      <td>14838.000000</td>\n",
       "      <td>14838.000000</td>\n",
       "      <td>14838.000000</td>\n",
       "      <td>14838.000000</td>\n",
       "      <td>14838.000000</td>\n",
       "      <td>14838.000000</td>\n",
       "    </tr>\n",
       "    <tr>\n",
       "      <th>mean</th>\n",
       "      <td>7418.500000</td>\n",
       "      <td>515.153604</td>\n",
       "      <td>9.135189</td>\n",
       "      <td>5.854307</td>\n",
       "      <td>6.738497</td>\n",
       "      <td>4.432570</td>\n",
       "      <td>5.253221</td>\n",
       "      <td>3.418749</td>\n",
       "      <td>1.773472</td>\n",
       "      <td>29.202823</td>\n",
       "      <td>10.435316</td>\n",
       "      <td>292.623087</td>\n",
       "      <td>1.236774</td>\n",
       "      <td>1.812070</td>\n",
       "      <td>2.255470</td>\n",
       "      <td>-1.207776</td>\n",
       "      <td>274.950211</td>\n",
       "      <td>5.874372</td>\n",
       "      <td>10.556443</td>\n",
       "      <td>-2.119772</td>\n",
       "      <td>8.584108</td>\n",
       "      <td>11.021644</td>\n",
       "      <td>17.790011</td>\n",
       "      <td>8.962440</td>\n",
       "      <td>11.318811</td>\n",
       "      <td>6.704487</td>\n",
       "      <td>15.666766</td>\n",
       "      <td>31.066423</td>\n",
       "      <td>13.636941</td>\n",
       "      <td>49.309959</td>\n",
       "      <td>0.458215</td>\n",
       "      <td>0.459226</td>\n",
       "      <td>0.667745</td>\n",
       "      <td>0.798962</td>\n",
       "      <td>0.313789</td>\n",
       "      <td>0.279081</td>\n",
       "      <td>0.144831</td>\n",
       "      <td>0.151570</td>\n",
       "    </tr>\n",
       "    <tr>\n",
       "      <th>std</th>\n",
       "      <td>4283.505982</td>\n",
       "      <td>542.456370</td>\n",
       "      <td>6.819989</td>\n",
       "      <td>4.647064</td>\n",
       "      <td>5.866444</td>\n",
       "      <td>3.760516</td>\n",
       "      <td>4.925065</td>\n",
       "      <td>3.436208</td>\n",
       "      <td>1.865898</td>\n",
       "      <td>31.728679</td>\n",
       "      <td>13.651843</td>\n",
       "      <td>225.384140</td>\n",
       "      <td>5.491284</td>\n",
       "      <td>5.495565</td>\n",
       "      <td>5.501200</td>\n",
       "      <td>0.935314</td>\n",
       "      <td>212.678755</td>\n",
       "      <td>45.730226</td>\n",
       "      <td>1.559331</td>\n",
       "      <td>2.066415</td>\n",
       "      <td>7.643769</td>\n",
       "      <td>13.958962</td>\n",
       "      <td>34.561655</td>\n",
       "      <td>19.756727</td>\n",
       "      <td>20.169745</td>\n",
       "      <td>10.865415</td>\n",
       "      <td>18.080208</td>\n",
       "      <td>33.896638</td>\n",
       "      <td>14.598554</td>\n",
       "      <td>29.174824</td>\n",
       "      <td>0.667948</td>\n",
       "      <td>0.668111</td>\n",
       "      <td>0.471038</td>\n",
       "      <td>0.400790</td>\n",
       "      <td>0.464047</td>\n",
       "      <td>0.448562</td>\n",
       "      <td>0.351942</td>\n",
       "      <td>0.358616</td>\n",
       "    </tr>\n",
       "    <tr>\n",
       "      <th>min</th>\n",
       "      <td>0.000000</td>\n",
       "      <td>0.000000</td>\n",
       "      <td>0.000000</td>\n",
       "      <td>0.000000</td>\n",
       "      <td>0.000000</td>\n",
       "      <td>0.000000</td>\n",
       "      <td>0.000000</td>\n",
       "      <td>0.000000</td>\n",
       "      <td>0.000000</td>\n",
       "      <td>0.000000</td>\n",
       "      <td>0.000000</td>\n",
       "      <td>1.007276</td>\n",
       "      <td>-666.000000</td>\n",
       "      <td>-666.000000</td>\n",
       "      <td>-666.000000</td>\n",
       "      <td>-7.730000</td>\n",
       "      <td>0.000000</td>\n",
       "      <td>-104.040000</td>\n",
       "      <td>0.000000</td>\n",
       "      <td>-6.327514</td>\n",
       "      <td>0.000000</td>\n",
       "      <td>0.000000</td>\n",
       "      <td>0.000000</td>\n",
       "      <td>0.000000</td>\n",
       "      <td>0.000000</td>\n",
       "      <td>0.000000</td>\n",
       "      <td>0.000000</td>\n",
       "      <td>0.000000</td>\n",
       "      <td>0.000000</td>\n",
       "      <td>-5.430556</td>\n",
       "      <td>0.000000</td>\n",
       "      <td>0.000000</td>\n",
       "      <td>0.000000</td>\n",
       "      <td>0.000000</td>\n",
       "      <td>0.000000</td>\n",
       "      <td>0.000000</td>\n",
       "      <td>0.000000</td>\n",
       "      <td>0.000000</td>\n",
       "    </tr>\n",
       "    <tr>\n",
       "      <th>25%</th>\n",
       "      <td>3709.250000</td>\n",
       "      <td>149.103601</td>\n",
       "      <td>4.680739</td>\n",
       "      <td>2.844556</td>\n",
       "      <td>2.932842</td>\n",
       "      <td>1.949719</td>\n",
       "      <td>2.034468</td>\n",
       "      <td>1.160763</td>\n",
       "      <td>0.503897</td>\n",
       "      <td>5.969305</td>\n",
       "      <td>0.000000</td>\n",
       "      <td>148.037173</td>\n",
       "      <td>1.045455</td>\n",
       "      <td>1.690909</td>\n",
       "      <td>2.100000</td>\n",
       "      <td>-1.660000</td>\n",
       "      <td>136.109000</td>\n",
       "      <td>1.784008</td>\n",
       "      <td>9.926190</td>\n",
       "      <td>-4.659604</td>\n",
       "      <td>4.000000</td>\n",
       "      <td>0.000000</td>\n",
       "      <td>0.000000</td>\n",
       "      <td>0.000000</td>\n",
       "      <td>0.000000</td>\n",
       "      <td>0.000000</td>\n",
       "      <td>5.969305</td>\n",
       "      <td>6.420822</td>\n",
       "      <td>4.794537</td>\n",
       "      <td>30.000000</td>\n",
       "      <td>0.000000</td>\n",
       "      <td>0.000000</td>\n",
       "      <td>0.000000</td>\n",
       "      <td>1.000000</td>\n",
       "      <td>0.000000</td>\n",
       "      <td>0.000000</td>\n",
       "      <td>0.000000</td>\n",
       "      <td>0.000000</td>\n",
       "    </tr>\n",
       "    <tr>\n",
       "      <th>50%</th>\n",
       "      <td>7418.500000</td>\n",
       "      <td>290.987941</td>\n",
       "      <td>6.485270</td>\n",
       "      <td>4.052701</td>\n",
       "      <td>4.392859</td>\n",
       "      <td>2.970427</td>\n",
       "      <td>3.242775</td>\n",
       "      <td>1.948613</td>\n",
       "      <td>1.073261</td>\n",
       "      <td>17.353601</td>\n",
       "      <td>6.420822</td>\n",
       "      <td>206.042653</td>\n",
       "      <td>1.250000</td>\n",
       "      <td>1.865152</td>\n",
       "      <td>2.358491</td>\n",
       "      <td>-1.100000</td>\n",
       "      <td>194.276500</td>\n",
       "      <td>3.261011</td>\n",
       "      <td>10.421334</td>\n",
       "      <td>-1.265370</td>\n",
       "      <td>6.000000</td>\n",
       "      <td>6.041841</td>\n",
       "      <td>5.969305</td>\n",
       "      <td>0.000000</td>\n",
       "      <td>0.000000</td>\n",
       "      <td>0.000000</td>\n",
       "      <td>11.752550</td>\n",
       "      <td>20.075376</td>\n",
       "      <td>9.589074</td>\n",
       "      <td>41.666667</td>\n",
       "      <td>0.000000</td>\n",
       "      <td>0.000000</td>\n",
       "      <td>1.000000</td>\n",
       "      <td>1.000000</td>\n",
       "      <td>0.000000</td>\n",
       "      <td>0.000000</td>\n",
       "      <td>0.000000</td>\n",
       "      <td>0.000000</td>\n",
       "    </tr>\n",
       "    <tr>\n",
       "      <th>75%</th>\n",
       "      <td>11127.750000</td>\n",
       "      <td>652.652585</td>\n",
       "      <td>11.170477</td>\n",
       "      <td>7.486791</td>\n",
       "      <td>8.527859</td>\n",
       "      <td>5.788793</td>\n",
       "      <td>6.609350</td>\n",
       "      <td>4.502070</td>\n",
       "      <td>2.534281</td>\n",
       "      <td>44.876559</td>\n",
       "      <td>12.841643</td>\n",
       "      <td>343.090331</td>\n",
       "      <td>1.500000</td>\n",
       "      <td>2.062153</td>\n",
       "      <td>2.500000</td>\n",
       "      <td>-0.570000</td>\n",
       "      <td>326.002000</td>\n",
       "      <td>5.848400</td>\n",
       "      <td>11.539743</td>\n",
       "      <td>-0.787037</td>\n",
       "      <td>10.000000</td>\n",
       "      <td>18.311899</td>\n",
       "      <td>15.645394</td>\n",
       "      <td>12.132734</td>\n",
       "      <td>13.847474</td>\n",
       "      <td>6.923737</td>\n",
       "      <td>17.721856</td>\n",
       "      <td>42.727765</td>\n",
       "      <td>14.912664</td>\n",
       "      <td>56.090650</td>\n",
       "      <td>1.000000</td>\n",
       "      <td>1.000000</td>\n",
       "      <td>1.000000</td>\n",
       "      <td>1.000000</td>\n",
       "      <td>1.000000</td>\n",
       "      <td>1.000000</td>\n",
       "      <td>0.000000</td>\n",
       "      <td>0.000000</td>\n",
       "    </tr>\n",
       "    <tr>\n",
       "      <th>max</th>\n",
       "      <td>14837.000000</td>\n",
       "      <td>4069.959780</td>\n",
       "      <td>69.551167</td>\n",
       "      <td>50.174588</td>\n",
       "      <td>53.431954</td>\n",
       "      <td>32.195368</td>\n",
       "      <td>34.579313</td>\n",
       "      <td>22.880836</td>\n",
       "      <td>16.072810</td>\n",
       "      <td>363.705954</td>\n",
       "      <td>99.936429</td>\n",
       "      <td>2237.318490</td>\n",
       "      <td>3.000000</td>\n",
       "      <td>3.200000</td>\n",
       "      <td>3.400000</td>\n",
       "      <td>0.820000</td>\n",
       "      <td>2035.133000</td>\n",
       "      <td>1512.242231</td>\n",
       "      <td>15.630251</td>\n",
       "      <td>6.000000</td>\n",
       "      <td>42.000000</td>\n",
       "      <td>97.663462</td>\n",
       "      <td>482.434223</td>\n",
       "      <td>375.425148</td>\n",
       "      <td>211.501279</td>\n",
       "      <td>100.348416</td>\n",
       "      <td>80.742293</td>\n",
       "      <td>492.729739</td>\n",
       "      <td>115.406157</td>\n",
       "      <td>384.450519</td>\n",
       "      <td>8.000000</td>\n",
       "      <td>8.000000</td>\n",
       "      <td>1.000000</td>\n",
       "      <td>1.000000</td>\n",
       "      <td>1.000000</td>\n",
       "      <td>1.000000</td>\n",
       "      <td>1.000000</td>\n",
       "      <td>1.000000</td>\n",
       "    </tr>\n",
       "  </tbody>\n",
       "</table>\n",
       "</div>"
      ],
      "text/plain": [
       "                 id       BertzCT          Chi1         Chi1n         Chi1v  \\\n",
       "count  14838.000000  14838.000000  14838.000000  14838.000000  14838.000000   \n",
       "mean    7418.500000    515.153604      9.135189      5.854307      6.738497   \n",
       "std     4283.505982    542.456370      6.819989      4.647064      5.866444   \n",
       "min        0.000000      0.000000      0.000000      0.000000      0.000000   \n",
       "25%     3709.250000    149.103601      4.680739      2.844556      2.932842   \n",
       "50%     7418.500000    290.987941      6.485270      4.052701      4.392859   \n",
       "75%    11127.750000    652.652585     11.170477      7.486791      8.527859   \n",
       "max    14837.000000   4069.959780     69.551167     50.174588     53.431954   \n",
       "\n",
       "              Chi2n         Chi2v         Chi3v         Chi4n   EState_VSA1  \\\n",
       "count  14838.000000  14838.000000  14838.000000  14838.000000  14838.000000   \n",
       "mean       4.432570      5.253221      3.418749      1.773472     29.202823   \n",
       "std        3.760516      4.925065      3.436208      1.865898     31.728679   \n",
       "min        0.000000      0.000000      0.000000      0.000000      0.000000   \n",
       "25%        1.949719      2.034468      1.160763      0.503897      5.969305   \n",
       "50%        2.970427      3.242775      1.948613      1.073261     17.353601   \n",
       "75%        5.788793      6.609350      4.502070      2.534281     44.876559   \n",
       "max       32.195368     34.579313     22.880836     16.072810    363.705954   \n",
       "\n",
       "        EState_VSA2    ExactMolWt  FpDensityMorgan1  FpDensityMorgan2  \\\n",
       "count  14838.000000  14838.000000      14838.000000      14838.000000   \n",
       "mean      10.435316    292.623087          1.236774          1.812070   \n",
       "std       13.651843    225.384140          5.491284          5.495565   \n",
       "min        0.000000      1.007276       -666.000000       -666.000000   \n",
       "25%        0.000000    148.037173          1.045455          1.690909   \n",
       "50%        6.420822    206.042653          1.250000          1.865152   \n",
       "75%       12.841643    343.090331          1.500000          2.062153   \n",
       "max       99.936429   2237.318490          3.000000          3.200000   \n",
       "\n",
       "       FpDensityMorgan3  HallKierAlpha  HeavyAtomMolWt        Kappa3  \\\n",
       "count      14838.000000   14838.000000    14838.000000  14838.000000   \n",
       "mean           2.255470      -1.207776      274.950211      5.874372   \n",
       "std            5.501200       0.935314      212.678755     45.730226   \n",
       "min         -666.000000      -7.730000        0.000000   -104.040000   \n",
       "25%            2.100000      -1.660000      136.109000      1.784008   \n",
       "50%            2.358491      -1.100000      194.276500      3.261011   \n",
       "75%            2.500000      -0.570000      326.002000      5.848400   \n",
       "max            3.400000       0.820000     2035.133000   1512.242231   \n",
       "\n",
       "       MaxAbsEStateIndex  MinEStateIndex  NumHeteroatoms    PEOE_VSA10  \\\n",
       "count       14838.000000    14838.000000    14838.000000  14838.000000   \n",
       "mean           10.556443       -2.119772        8.584108     11.021644   \n",
       "std             1.559331        2.066415        7.643769     13.958962   \n",
       "min             0.000000       -6.327514        0.000000      0.000000   \n",
       "25%             9.926190       -4.659604        4.000000      0.000000   \n",
       "50%            10.421334       -1.265370        6.000000      6.041841   \n",
       "75%            11.539743       -0.787037       10.000000     18.311899   \n",
       "max            15.630251        6.000000       42.000000     97.663462   \n",
       "\n",
       "         PEOE_VSA14     PEOE_VSA6     PEOE_VSA7     PEOE_VSA8     SMR_VSA10  \\\n",
       "count  14838.000000  14838.000000  14838.000000  14838.000000  14838.000000   \n",
       "mean      17.790011      8.962440     11.318811      6.704487     15.666766   \n",
       "std       34.561655     19.756727     20.169745     10.865415     18.080208   \n",
       "min        0.000000      0.000000      0.000000      0.000000      0.000000   \n",
       "25%        0.000000      0.000000      0.000000      0.000000      5.969305   \n",
       "50%        5.969305      0.000000      0.000000      0.000000     11.752550   \n",
       "75%       15.645394     12.132734     13.847474      6.923737     17.721856   \n",
       "max      482.434223    375.425148    211.501279    100.348416     80.742293   \n",
       "\n",
       "           SMR_VSA5    SlogP_VSA3   VSA_EState9        fr_COO       fr_COO2  \\\n",
       "count  14838.000000  14838.000000  14838.000000  14838.000000  14838.000000   \n",
       "mean      31.066423     13.636941     49.309959      0.458215      0.459226   \n",
       "std       33.896638     14.598554     29.174824      0.667948      0.668111   \n",
       "min        0.000000      0.000000     -5.430556      0.000000      0.000000   \n",
       "25%        6.420822      4.794537     30.000000      0.000000      0.000000   \n",
       "50%       20.075376      9.589074     41.666667      0.000000      0.000000   \n",
       "75%       42.727765     14.912664     56.090650      1.000000      1.000000   \n",
       "max      492.729739    115.406157    384.450519      8.000000      8.000000   \n",
       "\n",
       "                EC1           EC2           EC3           EC4           EC5  \\\n",
       "count  14838.000000  14838.000000  14838.000000  14838.000000  14838.000000   \n",
       "mean       0.667745      0.798962      0.313789      0.279081      0.144831   \n",
       "std        0.471038      0.400790      0.464047      0.448562      0.351942   \n",
       "min        0.000000      0.000000      0.000000      0.000000      0.000000   \n",
       "25%        0.000000      1.000000      0.000000      0.000000      0.000000   \n",
       "50%        1.000000      1.000000      0.000000      0.000000      0.000000   \n",
       "75%        1.000000      1.000000      1.000000      1.000000      0.000000   \n",
       "max        1.000000      1.000000      1.000000      1.000000      1.000000   \n",
       "\n",
       "                EC6  \n",
       "count  14838.000000  \n",
       "mean       0.151570  \n",
       "std        0.358616  \n",
       "min        0.000000  \n",
       "25%        0.000000  \n",
       "50%        0.000000  \n",
       "75%        0.000000  \n",
       "max        1.000000  "
      ]
     },
     "execution_count": 5,
     "metadata": {},
     "output_type": "execute_result"
    }
   ],
   "source": [
    "data_train.describe()"
   ]
  },
  {
   "cell_type": "code",
   "execution_count": 6,
   "id": "87794508",
   "metadata": {
    "execution": {
     "iopub.execute_input": "2024-02-15T00:52:17.494542Z",
     "iopub.status.busy": "2024-02-15T00:52:17.494219Z",
     "iopub.status.idle": "2024-02-15T00:52:17.508707Z",
     "shell.execute_reply": "2024-02-15T00:52:17.507580Z"
    },
    "papermill": {
     "duration": 0.021725,
     "end_time": "2024-02-15T00:52:17.510834",
     "exception": false,
     "start_time": "2024-02-15T00:52:17.489109",
     "status": "completed"
    },
    "tags": []
   },
   "outputs": [
    {
     "data": {
      "text/plain": [
       "id                     0.000000\n",
       "BertzCT                1.775677\n",
       "Chi1                   1.679368\n",
       "Chi1n                  1.722855\n",
       "Chi1v                  1.782578\n",
       "Chi2n                  1.667144\n",
       "Chi2v                  1.748260\n",
       "Chi3v                  1.644531\n",
       "Chi4n                  1.893930\n",
       "EState_VSA1            1.426010\n",
       "EState_VSA2            1.914321\n",
       "ExactMolWt             1.708846\n",
       "FpDensityMorgan1    -120.930261\n",
       "FpDensityMorgan2    -120.960846\n",
       "FpDensityMorgan3    -120.830068\n",
       "HallKierAlpha         -1.255378\n",
       "HeavyAtomMolWt         1.704114\n",
       "Kappa3                26.419611\n",
       "MaxAbsEStateIndex     -1.698735\n",
       "MinEStateIndex        -0.611405\n",
       "NumHeteroatoms         1.564873\n",
       "PEOE_VSA10             1.354507\n",
       "PEOE_VSA14             4.529731\n",
       "PEOE_VSA6              4.415531\n",
       "PEOE_VSA7              3.104631\n",
       "PEOE_VSA8              2.041539\n",
       "SMR_VSA10              2.125224\n",
       "SMR_VSA5               2.368562\n",
       "SlogP_VSA3             1.613283\n",
       "VSA_EState9            1.696281\n",
       "fr_COO                 1.618629\n",
       "fr_COO2                1.614502\n",
       "EC1                   -0.712332\n",
       "EC2                   -1.492066\n",
       "EC3                    0.802660\n",
       "EC4                    0.985143\n",
       "EC5                    2.018611\n",
       "EC6                    1.943453\n",
       "dtype: float64"
      ]
     },
     "execution_count": 6,
     "metadata": {},
     "output_type": "execute_result"
    }
   ],
   "source": [
    "data_train.skew()"
   ]
  },
  {
   "cell_type": "code",
   "execution_count": 7,
   "id": "ae5f06fc",
   "metadata": {
    "execution": {
     "iopub.execute_input": "2024-02-15T00:52:17.522811Z",
     "iopub.status.busy": "2024-02-15T00:52:17.522483Z",
     "iopub.status.idle": "2024-02-15T00:52:17.530750Z",
     "shell.execute_reply": "2024-02-15T00:52:17.529889Z"
    },
    "papermill": {
     "duration": 0.015802,
     "end_time": "2024-02-15T00:52:17.532643",
     "exception": false,
     "start_time": "2024-02-15T00:52:17.516841",
     "status": "completed"
    },
    "tags": []
   },
   "outputs": [
    {
     "name": "stdout",
     "output_type": "stream",
     "text": [
      "0.909090909\n",
      "1.75\n",
      "-0.45454545449999995\n",
      "4.375\n"
     ]
    }
   ],
   "source": [
    "Q1 = data_train['FpDensityMorgan1'].quantile(0.10)\n",
    "Q2 = data_train['FpDensityMorgan1'].quantile(0.90)\n",
    "print(Q1)\n",
    "print(Q2)\n",
    "print(Q1-(1.5*Q1))\n",
    "print(Q2+(1.5*Q2))"
   ]
  },
  {
   "cell_type": "code",
   "execution_count": 8,
   "id": "aafba565",
   "metadata": {
    "execution": {
     "iopub.execute_input": "2024-02-15T00:52:17.543640Z",
     "iopub.status.busy": "2024-02-15T00:52:17.542599Z",
     "iopub.status.idle": "2024-02-15T00:52:17.553600Z",
     "shell.execute_reply": "2024-02-15T00:52:17.552655Z"
    },
    "papermill": {
     "duration": 0.018495,
     "end_time": "2024-02-15T00:52:17.555762",
     "exception": false,
     "start_time": "2024-02-15T00:52:17.537267",
     "status": "completed"
    },
    "tags": []
   },
   "outputs": [],
   "source": [
    "data_train[\"FpDensityMorgan1\"] = np.where(data_train[\"FpDensityMorgan1\"] < -0.5, -0.5,data_train['FpDensityMorgan1'])\n",
    "data_train[\"FpDensityMorgan1\"] = np.where(data_train[\"FpDensityMorgan1\"] > 4.64, 4.64,data_train['FpDensityMorgan1'])\n",
    "data_train[\"FpDensityMorgan2\"] = np.where(data_train[\"FpDensityMorgan2\"] < -0.76, -0.76,data_train['FpDensityMorgan2'])\n",
    "data_train[\"FpDensityMorgan2\"] = np.where(data_train[\"FpDensityMorgan2\"] > 5.83, 5.83,data_train['FpDensityMorgan2'])\n",
    "data_train[\"FpDensityMorgan3\"] = np.where(data_train[\"FpDensityMorgan3\"] < -1.0, -1.0,data_train['FpDensityMorgan3'])\n",
    "data_train[\"FpDensityMorgan3\"] = np.where(data_train[\"FpDensityMorgan3\"] > 7.14, 7.14,data_train['FpDensityMorgan3'])\n"
   ]
  },
  {
   "cell_type": "code",
   "execution_count": 9,
   "id": "fc381451",
   "metadata": {
    "execution": {
     "iopub.execute_input": "2024-02-15T00:52:17.567408Z",
     "iopub.status.busy": "2024-02-15T00:52:17.566299Z",
     "iopub.status.idle": "2024-02-15T00:52:17.575628Z",
     "shell.execute_reply": "2024-02-15T00:52:17.574818Z"
    },
    "papermill": {
     "duration": 0.016823,
     "end_time": "2024-02-15T00:52:17.577441",
     "exception": false,
     "start_time": "2024-02-15T00:52:17.560618",
     "status": "completed"
    },
    "tags": []
   },
   "outputs": [],
   "source": [
    "data_test[\"FpDensityMorgan1\"] = np.where(data_test[\"FpDensityMorgan1\"] < -0.5, -0.5,data_test['FpDensityMorgan1'])\n",
    "data_test[\"FpDensityMorgan1\"] = np.where(data_test[\"FpDensityMorgan1\"] > 4.64, 4.64,data_test['FpDensityMorgan1'])\n",
    "data_test[\"FpDensityMorgan2\"] = np.where(data_test[\"FpDensityMorgan2\"] < -0.76, -0.76,data_test['FpDensityMorgan2'])\n",
    "data_test[\"FpDensityMorgan2\"] = np.where(data_test[\"FpDensityMorgan2\"] > 5.83, 5.83,data_test['FpDensityMorgan2'])\n",
    "data_test[\"FpDensityMorgan3\"] = np.where(data_test[\"FpDensityMorgan3\"] < -1.0, -1.0,data_test['FpDensityMorgan3'])\n",
    "data_test[\"FpDensityMorgan3\"] = np.where(data_test[\"FpDensityMorgan3\"] > 7.14, 7.14,data_test['FpDensityMorgan3'])"
   ]
  },
  {
   "cell_type": "code",
   "execution_count": 10,
   "id": "3a9492d5",
   "metadata": {
    "execution": {
     "iopub.execute_input": "2024-02-15T00:52:17.588575Z",
     "iopub.status.busy": "2024-02-15T00:52:17.588226Z",
     "iopub.status.idle": "2024-02-15T00:52:17.602961Z",
     "shell.execute_reply": "2024-02-15T00:52:17.602032Z"
    },
    "papermill": {
     "duration": 0.022662,
     "end_time": "2024-02-15T00:52:17.604939",
     "exception": false,
     "start_time": "2024-02-15T00:52:17.582277",
     "status": "completed"
    },
    "tags": []
   },
   "outputs": [],
   "source": [
    "y_train = data_train[['EC1','EC2']]\n",
    "X_train = data_train.drop(['EC1','EC2','EC3','EC4','EC5','EC6','id'], axis= 1)\n",
    "n_inputs, n_outputs = X_train.shape[1], y_train.shape[1]"
   ]
  },
  {
   "cell_type": "code",
   "execution_count": 11,
   "id": "1eb4b683",
   "metadata": {
    "execution": {
     "iopub.execute_input": "2024-02-15T00:52:17.616373Z",
     "iopub.status.busy": "2024-02-15T00:52:17.615741Z",
     "iopub.status.idle": "2024-02-15T00:52:17.621146Z",
     "shell.execute_reply": "2024-02-15T00:52:17.620354Z"
    },
    "papermill": {
     "duration": 0.013025,
     "end_time": "2024-02-15T00:52:17.622855",
     "exception": false,
     "start_time": "2024-02-15T00:52:17.609830",
     "status": "completed"
    },
    "tags": []
   },
   "outputs": [],
   "source": [
    "\n",
    "X_test = data_test.drop(['id'], axis= 1)"
   ]
  },
  {
   "cell_type": "code",
   "execution_count": 12,
   "id": "266297fe",
   "metadata": {
    "execution": {
     "iopub.execute_input": "2024-02-15T00:52:17.633423Z",
     "iopub.status.busy": "2024-02-15T00:52:17.633043Z",
     "iopub.status.idle": "2024-02-15T00:52:19.828005Z",
     "shell.execute_reply": "2024-02-15T00:52:19.827135Z"
    },
    "papermill": {
     "duration": 2.202928,
     "end_time": "2024-02-15T00:52:19.830347",
     "exception": false,
     "start_time": "2024-02-15T00:52:17.627419",
     "status": "completed"
    },
    "tags": []
   },
   "outputs": [
    {
     "name": "stderr",
     "output_type": "stream",
     "text": [
      "/opt/conda/lib/python3.10/site-packages/sklearn/base.py:432: UserWarning: X has feature names, but RandomForestClassifier was fitted without feature names\n",
      "  warnings.warn(\n"
     ]
    },
    {
     "name": "stdout",
     "output_type": "stream",
     "text": [
      "0.7242937868143513 0.625688899546467\n"
     ]
    },
    {
     "name": "stderr",
     "output_type": "stream",
     "text": [
      "/opt/conda/lib/python3.10/site-packages/sklearn/base.py:432: UserWarning: X has feature names, but RandomForestClassifier was fitted without feature names\n",
      "  warnings.warn(\n"
     ]
    }
   ],
   "source": [
    "# using Label Powerset\n",
    "from skmultilearn.problem_transform import LabelPowerset\n",
    "from sklearn.ensemble import RandomForestClassifier\n",
    "\n",
    "# initialize Label Powerset multi-label classifier\n",
    "# with a gaussian naive bayes base classifier\n",
    "lb_rf_classifier = LabelPowerset(RandomForestClassifier(n_estimators=50, criterion='gini',max_depth=5,min_samples_split=10, max_features=\"sqrt\"))\n",
    "\n",
    "# train\n",
    "lb_rf_classifier.fit(X_train, y_train)\n",
    "\n",
    "pred_prob1 = lb_rf_classifier.predict_proba(X_train).toarray()\n",
    "\n",
    "train_auc_score1 = roc_auc_score(y_train['EC1'], pred_prob1[:,0])\n",
    "train_auc_score2 = roc_auc_score(y_train['EC2'], pred_prob1[:,1])\n",
    "print(train_auc_score1, train_auc_score2)\n",
    "\n",
    "# predict\n",
    "pred_prob2_lp = lb_rf_classifier.predict_proba(X_test).toarray()\n",
    "\n",
    "\n",
    "# fpr1, tpr1, thresh1 = roc_curve(y_test['EC1'], pred_prob2[:,0], pos_label=1)\n",
    "# fpr2, tpr2, thresh2 = roc_curve(y_test['EC2'], pred_prob2[:,1], pos_label=1)\n",
    "\n",
    "# auc_score1 = roc_auc_score(y_test['EC1'], pred_prob2[:,0])\n",
    "# auc_score2 = roc_auc_score(y_test['EC2'], pred_prob2[:,1])\n",
    "\n",
    "# print(auc_score1)"
   ]
  },
  {
   "cell_type": "code",
   "execution_count": 13,
   "id": "39446d67",
   "metadata": {
    "execution": {
     "iopub.execute_input": "2024-02-15T00:52:19.841263Z",
     "iopub.status.busy": "2024-02-15T00:52:19.840904Z",
     "iopub.status.idle": "2024-02-15T00:52:22.164433Z",
     "shell.execute_reply": "2024-02-15T00:52:22.163112Z"
    },
    "papermill": {
     "duration": 2.331186,
     "end_time": "2024-02-15T00:52:22.166495",
     "exception": false,
     "start_time": "2024-02-15T00:52:19.835309",
     "status": "completed"
    },
    "tags": []
   },
   "outputs": [
    {
     "name": "stdout",
     "output_type": "stream",
     "text": [
      "0.7294914634515841 0.6309911797387502\n"
     ]
    }
   ],
   "source": [
    "# using Multi output classifier\n",
    "from sklearn.multioutput import ClassifierChain\n",
    "from sklearn.ensemble import RandomForestClassifier\n",
    "\n",
    "# initialize Label Powerset multi-label classifier\n",
    "# with a gaussian naive bayes base classifier\n",
    "classifier_chain = ClassifierChain(RandomForestClassifier(n_estimators=50, criterion='gini',max_depth=5))\n",
    "\n",
    "# train\n",
    "classifier_chain.fit(X_train, y_train)\n",
    "\n",
    "pred_prob1 = classifier_chain.predict_proba(X_train)\n",
    "train_auc_score1 = roc_auc_score(y_train['EC1'], pred_prob1[:,0])\n",
    "train_auc_score2 = roc_auc_score(y_train['EC2'], pred_prob1[:,1])\n",
    "print(train_auc_score1, train_auc_score2)\n",
    "# predict\n",
    "pred_prob2_cf = classifier_chain.predict_proba(X_test)\n",
    "\n",
    "\n",
    "# fpr1, tpr1, thresh1 = roc_curve(y_test['EC1'], pred_prob2[:,0], pos_label=1)\n",
    "# fpr2, tpr2, thresh2 = roc_curve(y_test['EC2'], pred_prob2[:,1], pos_label=1)\n",
    "\n",
    "# auc_score1 = roc_auc_score(y_test['EC1'], pred_prob2[:,0])\n",
    "# auc_score2 = roc_auc_score(y_test['EC2'], pred_prob2[:,1])\n",
    "\n",
    "# print(auc_score1)"
   ]
  },
  {
   "cell_type": "code",
   "execution_count": 14,
   "id": "b758f3e7",
   "metadata": {
    "execution": {
     "iopub.execute_input": "2024-02-15T00:52:22.177671Z",
     "iopub.status.busy": "2024-02-15T00:52:22.177275Z",
     "iopub.status.idle": "2024-02-15T00:52:22.187564Z",
     "shell.execute_reply": "2024-02-15T00:52:22.186318Z"
    },
    "papermill": {
     "duration": 0.018506,
     "end_time": "2024-02-15T00:52:22.189886",
     "exception": false,
     "start_time": "2024-02-15T00:52:22.171380",
     "status": "completed"
    },
    "tags": []
   },
   "outputs": [],
   "source": [
    "\n",
    "result = pd.DataFrame(pred_prob2_cf)\n",
    "result['id']= data_test['id']\n",
    "result = result.rename(columns={0:'EC1',1:'EC2'})\n",
    "cols = ['id','EC1','EC2']\n",
    "submission_Data = result[cols]"
   ]
  },
  {
   "cell_type": "code",
   "execution_count": 15,
   "id": "9550c0cc",
   "metadata": {
    "execution": {
     "iopub.execute_input": "2024-02-15T00:52:22.200714Z",
     "iopub.status.busy": "2024-02-15T00:52:22.200382Z",
     "iopub.status.idle": "2024-02-15T00:52:22.235323Z",
     "shell.execute_reply": "2024-02-15T00:52:22.234303Z"
    },
    "papermill": {
     "duration": 0.042632,
     "end_time": "2024-02-15T00:52:22.237321",
     "exception": false,
     "start_time": "2024-02-15T00:52:22.194689",
     "status": "completed"
    },
    "tags": []
   },
   "outputs": [],
   "source": [
    "submission_Data.to_csv('submission_Enzyme_cf.csv', encoding='utf-8', index=False)"
   ]
  }
 ],
 "metadata": {
  "kaggle": {
   "accelerator": "none",
   "dataSources": [
    {
     "databundleVersionId": 6051881,
     "sourceId": 53377,
     "sourceType": "competition"
    }
   ],
   "dockerImageVersionId": 30513,
   "isGpuEnabled": false,
   "isInternetEnabled": true,
   "language": "python",
   "sourceType": "notebook"
  },
  "kernelspec": {
   "display_name": "Python 3",
   "language": "python",
   "name": "python3"
  },
  "language_info": {
   "codemirror_mode": {
    "name": "ipython",
    "version": 3
   },
   "file_extension": ".py",
   "mimetype": "text/x-python",
   "name": "python",
   "nbconvert_exporter": "python",
   "pygments_lexer": "ipython3",
   "version": "3.10.10"
  },
  "papermill": {
   "default_parameters": {},
   "duration": 17.914016,
   "end_time": "2024-02-15T00:52:23.162608",
   "environment_variables": {},
   "exception": null,
   "input_path": "__notebook__.ipynb",
   "output_path": "__notebook__.ipynb",
   "parameters": {},
   "start_time": "2024-02-15T00:52:05.248592",
   "version": "2.4.0"
  }
 },
 "nbformat": 4,
 "nbformat_minor": 5
}
